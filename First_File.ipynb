{
 "cells": [
  {
   "cell_type": "code",
   "execution_count": null,
   "id": "cf123a23",
   "metadata": {},
   "outputs": [],
   "source": [
    "#This is a new file and our first commit\n",
    "\n",
    "#This is my first code\n",
    "\n",
    "print(\"I love Git\")"
   ]
  }
 ],
 "metadata": {
  "language_info": {
   "name": "python"
  }
 },
 "nbformat": 4,
 "nbformat_minor": 5
}
